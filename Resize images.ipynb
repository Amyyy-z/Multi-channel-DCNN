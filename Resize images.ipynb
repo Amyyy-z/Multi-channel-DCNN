{
 "cells": [
  {
   "cell_type": "code",
   "execution_count": 1,
   "metadata": {},
   "outputs": [],
   "source": [
    "from PIL import Image\n",
    "import glob\n",
    "import cv2\n",
    "from PIL import Image, ImageEnhance "
   ]
  },
  {
   "cell_type": "code",
   "execution_count": 2,
   "metadata": {},
   "outputs": [],
   "source": [
    "import os\n",
    "import os.path"
   ]
  },
  {
   "cell_type": "code",
   "execution_count": 5,
   "metadata": {},
   "outputs": [],
   "source": [
    "f = r'C:\\Users\\Amy\\Desktop\\Ultrasound binary\\Malignant'"
   ]
  },
  {
   "cell_type": "code",
   "execution_count": 7,
   "metadata": {},
   "outputs": [],
   "source": [
    "image = r'C:\\Users\\Amy\\Desktop\\cancer.png'"
   ]
  },
  {
   "cell_type": "code",
   "execution_count": 8,
   "metadata": {},
   "outputs": [
    {
     "data": {
      "text/plain": [
       "'C:\\\\Users\\\\Amy\\\\Desktop\\\\cancer.png'"
      ]
     },
     "execution_count": 8,
     "metadata": {},
     "output_type": "execute_result"
    }
   ],
   "source": [
    "image"
   ]
  },
  {
   "cell_type": "code",
   "execution_count": 9,
   "metadata": {},
   "outputs": [
    {
     "ename": "NameError",
     "evalue": "name 'imgage' is not defined",
     "output_type": "error",
     "traceback": [
      "\u001b[1;31m---------------------------------------------------------------------------\u001b[0m",
      "\u001b[1;31mNameError\u001b[0m                                 Traceback (most recent call last)",
      "\u001b[1;32m<ipython-input-9-acae8136462d>\u001b[0m in \u001b[0;36m<module>\u001b[1;34m\u001b[0m\n\u001b[1;32m----> 1\u001b[1;33m \u001b[0mimg\u001b[0m \u001b[1;33m=\u001b[0m \u001b[0mImage\u001b[0m\u001b[1;33m.\u001b[0m\u001b[0mopen\u001b[0m\u001b[1;33m(\u001b[0m\u001b[0mimgage\u001b[0m\u001b[1;33m)\u001b[0m\u001b[1;33m\u001b[0m\u001b[1;33m\u001b[0m\u001b[0m\n\u001b[0m\u001b[0;32m      2\u001b[0m \u001b[0mimg\u001b[0m \u001b[1;33m=\u001b[0m \u001b[0mimg\u001b[0m\u001b[1;33m.\u001b[0m\u001b[0mresize\u001b[0m\u001b[1;33m(\u001b[0m\u001b[1;33m(\u001b[0m\u001b[1;36m224\u001b[0m\u001b[1;33m,\u001b[0m\u001b[1;36m224\u001b[0m\u001b[1;33m)\u001b[0m\u001b[1;33m)\u001b[0m\u001b[1;33m\u001b[0m\u001b[1;33m\u001b[0m\u001b[0m\n\u001b[0;32m      3\u001b[0m \u001b[0mimg\u001b[0m\u001b[1;33m.\u001b[0m\u001b[0msave\u001b[0m\u001b[1;33m(\u001b[0m\u001b[0mf_img\u001b[0m\u001b[1;33m)\u001b[0m\u001b[1;33m\u001b[0m\u001b[1;33m\u001b[0m\u001b[0m\n",
      "\u001b[1;31mNameError\u001b[0m: name 'imgage' is not defined"
     ]
    }
   ],
   "source": [
    "    img = Image.open(imgage)\n",
    "    img = img.resize((224,224))\n",
    "    img.save(f_img)"
   ]
  },
  {
   "cell_type": "code",
   "execution_count": 6,
   "metadata": {},
   "outputs": [
    {
     "data": {
      "text/plain": [
       "['ultra100_1.png',\n",
       " 'ultra100_2.png',\n",
       " 'ultra100_3.png',\n",
       " 'ultra100_4.png',\n",
       " 'ultra101_1.png',\n",
       " 'ultra101_2.png',\n",
       " 'ultra101_3.png',\n",
       " 'ultra101_4.png',\n",
       " 'ultra101_5.png',\n",
       " 'ultra101_6.png',\n",
       " 'ultra106_1.png',\n",
       " 'ultra106_2.png',\n",
       " 'ultra106_3.png',\n",
       " 'ultra106_4.png',\n",
       " 'ultra110_1.png',\n",
       " 'ultra110_2.png',\n",
       " 'ultra110_3.png',\n",
       " 'ultra125_1.png',\n",
       " 'ultra125_2.png',\n",
       " 'ultra125_3.png',\n",
       " 'ultra145_1.png',\n",
       " 'ultra145_2.png',\n",
       " 'ultra145_3.png',\n",
       " 'ultra145_4.png',\n",
       " 'ultra151_1.png',\n",
       " 'ultra151_2.png',\n",
       " 'ultra151_3.png',\n",
       " 'ultra183_1.png',\n",
       " 'ultra183_2.png',\n",
       " 'ultra183_3.png',\n",
       " 'ultra225_1.png',\n",
       " 'ultra225_2.png',\n",
       " 'ultra225_3.png',\n",
       " 'ultra233_1.png',\n",
       " 'ultra233_2.png',\n",
       " 'ultra233_3.png',\n",
       " 'ultra235_1.png',\n",
       " 'ultra235_2.png',\n",
       " 'ultra259_1.png',\n",
       " 'ultra259_2.png',\n",
       " 'ultra259_3.png',\n",
       " 'ultra259_4.png',\n",
       " 'ultra263_1.png',\n",
       " 'ultra263_2.png',\n",
       " 'ultra263_3.png',\n",
       " 'ultra267_1.png',\n",
       " 'ultra267_2.png',\n",
       " 'ultra267_3.png',\n",
       " 'ultra267_4.png',\n",
       " 'ultra26_1.png',\n",
       " 'ultra26_2.png',\n",
       " 'ultra26_3.png',\n",
       " 'ultra285_1.png',\n",
       " 'ultra285_2.png',\n",
       " 'ultra285_3.png',\n",
       " 'ultra285_4.png',\n",
       " 'ultra293_1.png',\n",
       " 'ultra293_2.png',\n",
       " 'ultra293_3.png',\n",
       " 'ultra293_4.png',\n",
       " 'ultra301_1.png',\n",
       " 'ultra301_2.png',\n",
       " 'ultra301_3.png',\n",
       " 'ultra301_4.png',\n",
       " 'ultra301_5.png',\n",
       " 'ultra301_6.png',\n",
       " 'ultra304_1.png',\n",
       " 'ultra304_2.png',\n",
       " 'ultra304_3.png',\n",
       " 'ultra329_1.png',\n",
       " 'ultra329_2.png',\n",
       " 'ultra329_3.png',\n",
       " 'ultra36_1.png',\n",
       " 'ultra36_2.png',\n",
       " 'ultra36_3.png',\n",
       " 'ultra383_1.png',\n",
       " 'ultra383_2.png',\n",
       " 'ultra383_3.png',\n",
       " 'ultra383_4.png',\n",
       " 'ultra383_5.png',\n",
       " 'ultra383_6.png',\n",
       " 'ultra404_1.png',\n",
       " 'ultra404_2.png',\n",
       " 'ultra404_3.png',\n",
       " 'ultra404_4.png',\n",
       " 'ultra404_5.png',\n",
       " 'ultra404_6.png',\n",
       " 'ultra405_1.png',\n",
       " 'ultra405_2.png',\n",
       " 'ultra405_3.png',\n",
       " 'ultra410_1.png',\n",
       " 'ultra410_2.png',\n",
       " 'ultra410_3.png',\n",
       " 'ultra427_1.png',\n",
       " 'ultra427_2.png',\n",
       " 'ultra427_3.png',\n",
       " 'ultra437_1.png',\n",
       " 'ultra437_2.png',\n",
       " 'ultra437_3.png',\n",
       " 'ultra437_4.png',\n",
       " 'ultra443_1.png',\n",
       " 'ultra443_2.png',\n",
       " 'ultra443_3.png',\n",
       " 'ultra443_4.png',\n",
       " 'ultra444_1.png',\n",
       " 'ultra444_2.png',\n",
       " 'ultra444_3.png',\n",
       " 'ultra451_1.png',\n",
       " 'ultra451_2.png',\n",
       " 'ultra456_1.png',\n",
       " 'ultra456_2.png',\n",
       " 'ultra465_2.png',\n",
       " 'ultra500_1.png',\n",
       " 'ultra500_2.png',\n",
       " 'ultra500_3.png',\n",
       " 'ultra500_4.png',\n",
       " 'ultra505_1.png',\n",
       " 'ultra505_2.png',\n",
       " 'ultra505_3.png',\n",
       " 'ultra507_1.png',\n",
       " 'ultra507_2.png',\n",
       " 'ultra507_3.png',\n",
       " 'ultra507_4.png',\n",
       " 'ultra507_5.png',\n",
       " 'ultra507_6.png',\n",
       " 'ultra515_1.png',\n",
       " 'ultra515_2.png',\n",
       " 'ultra515_3.png',\n",
       " 'ultra515_4.png',\n",
       " 'ultra515_5.png',\n",
       " 'ultra515_6.png',\n",
       " 'ultra516_1.png',\n",
       " 'ultra516_2.png',\n",
       " 'ultra516_3.png',\n",
       " 'ultra516_4.png',\n",
       " 'ultra516_5.png',\n",
       " 'ultra516_6.png',\n",
       " 'ultra522_1.png',\n",
       " 'ultra522_2.png',\n",
       " 'ultra522_3.png',\n",
       " 'ultra522_4.png',\n",
       " 'ultra522_5.png',\n",
       " 'ultra522_6.png',\n",
       " 'ultra522_7.png',\n",
       " 'ultra522_8.png',\n",
       " 'ultra528_1.png',\n",
       " 'ultra528_2.png',\n",
       " 'ultra528_3.png',\n",
       " 'ultra530_1.png',\n",
       " 'ultra530_2.png',\n",
       " 'ultra530_3.png',\n",
       " 'ultra541_1.png',\n",
       " 'ultra541_2.png',\n",
       " 'ultra541_3.png',\n",
       " 'ultra541_4.png',\n",
       " 'ultra565_1.png',\n",
       " 'ultra565_2.png',\n",
       " 'ultra565_3.png',\n",
       " 'ultra566_1.png',\n",
       " 'ultra566_2.png',\n",
       " 'ultra566_3.png',\n",
       " 'ultra566_4.png',\n",
       " 'ultra568_1.png',\n",
       " 'ultra568_2.png',\n",
       " 'ultra568_3.png',\n",
       " 'ultra568_4.png',\n",
       " 'ultra569_1.png',\n",
       " 'ultra569_2.png',\n",
       " 'ultra569_3.png',\n",
       " 'ultra569_4.png',\n",
       " 'ultra569_5.png',\n",
       " 'ultra570_1.png',\n",
       " 'ultra570_2.png',\n",
       " 'ultra570_3.png',\n",
       " 'ultra574_1.png',\n",
       " 'ultra574_2.png',\n",
       " 'ultra574_3.png',\n",
       " 'ultra576_1.png',\n",
       " 'ultra576_2.png',\n",
       " 'ultra576_3.png',\n",
       " 'ultra577_1.png',\n",
       " 'ultra577_2.png',\n",
       " 'ultra577_3.png',\n",
       " 'ultra577_4.png',\n",
       " 'ultra577_5.png',\n",
       " 'ultra577_6.png',\n",
       " 'ultra577_7.png',\n",
       " 'ultra578_1.png',\n",
       " 'ultra578_2.png',\n",
       " 'ultra578_3.png',\n",
       " 'ultra578_4.png',\n",
       " 'ultra578_5.png',\n",
       " 'ultra578_6.png',\n",
       " 'ultra71_1.png',\n",
       " 'ultra71_2.png',\n",
       " 'ultra71_3.png',\n",
       " 'ultra71_4.png',\n",
       " 'ultra99_1.png',\n",
       " 'ultra99_2.png',\n",
       " 'ultra99_3.png']"
      ]
     },
     "execution_count": 6,
     "metadata": {},
     "output_type": "execute_result"
    }
   ],
   "source": [
    "os.listdir(f)"
   ]
  },
  {
   "cell_type": "code",
   "execution_count": 17,
   "metadata": {},
   "outputs": [],
   "source": [
    "for file in os.listdir(f):\n",
    "    f_img = f+\"/\"+file\n",
    "    img = Image.open(f_img)\n",
    "    img = img.resize((224,224))\n",
    "    img.save(f_img)\n",
    "#     enhancer = ImageEnhance.Sharpness(img)\n",
    "#     enhanced_im = enhancer.enhance(5.0)\n",
    "#     enhanced_im.save(f_img)"
   ]
  },
  {
   "cell_type": "code",
   "execution_count": 6,
   "metadata": {},
   "outputs": [],
   "source": [
    "image_list = []\n",
    "files = glob.glob(r\"C:\\Users\\Amy\\Desktop\\Ultrasound binary\\Benign\")"
   ]
  },
  {
   "cell_type": "code",
   "execution_count": 7,
   "metadata": {},
   "outputs": [],
   "source": [
    "import numpy as np"
   ]
  },
  {
   "cell_type": "code",
   "execution_count": 8,
   "metadata": {},
   "outputs": [],
   "source": [
    "import matplotlib.pyplot as plt\n",
    "%matplotlib inline"
   ]
  },
  {
   "cell_type": "code",
   "execution_count": 9,
   "metadata": {},
   "outputs": [],
   "source": [
    "image_list = np.asarray(image_list).astype(int)"
   ]
  },
  {
   "cell_type": "code",
   "execution_count": null,
   "metadata": {},
   "outputs": [],
   "source": []
  }
 ],
 "metadata": {
  "kernelspec": {
   "display_name": "Python 3",
   "language": "python",
   "name": "python3"
  },
  "language_info": {
   "codemirror_mode": {
    "name": "ipython",
    "version": 3
   },
   "file_extension": ".py",
   "mimetype": "text/x-python",
   "name": "python",
   "nbconvert_exporter": "python",
   "pygments_lexer": "ipython3",
   "version": "3.8.5"
  }
 },
 "nbformat": 4,
 "nbformat_minor": 4
}
